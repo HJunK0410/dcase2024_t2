{
 "cells": [
  {
   "cell_type": "markdown",
   "metadata": {},
   "source": [
    "# WHOLE + MACHINE (mean of cos dis)"
   ]
  },
  {
   "cell_type": "code",
   "execution_count": 11,
   "metadata": {},
   "outputs": [],
   "source": [
    "import os\n",
    "import pickle\n",
    "import numpy as np\n",
    "import pandas as pd\n",
    "from scipy.stats import hmean\n",
    "from sklearn.cluster import KMeans\n",
    "from sklearn.decomposition import PCA\n",
    "import matplotlib.pyplot as plt\n",
    "from sklearn.metrics import roc_auc_score"
   ]
  },
  {
   "cell_type": "code",
   "execution_count": 12,
   "metadata": {},
   "outputs": [],
   "source": [
    "eval_train = pd.read_csv('../processed_data/evaluation_train.csv')\n",
    "eval_test = pd.read_csv('../processed_data/evaluation_test.csv')\n",
    "eval_eval = pd.read_csv('../processed_data/evaluation_eval.csv')"
   ]
  },
  {
   "cell_type": "code",
   "execution_count": 13,
   "metadata": {},
   "outputs": [],
   "source": [
    "with open('result_emb/train_emb.pickle', 'rb') as f:\n",
    "    result_train = pickle.load(f)\n",
    "f.close()\n",
    "\n",
    "with open('result_emb/test_emb.pickle', 'rb') as f:\n",
    "    result_test = pickle.load(f)\n",
    "f.close()\n",
    "\n",
    "with open('result_emb/eval_emb.pickle', 'rb') as f:\n",
    "    result_eval = pickle.load(f)\n",
    "f.close()\n",
    "\n",
    "##############################################################\n",
    "\n",
    "with open('result_emb/train_machine_emb.pickle', 'rb') as f:\n",
    "    result_train_machine = pickle.load(f)\n",
    "f.close()\n",
    "\n",
    "with open('result_emb/test_machine_emb.pickle', 'rb') as f:\n",
    "    result_test_machine = pickle.load(f)\n",
    "f.close()\n",
    "\n",
    "with open('result_emb/eval_machine_emb.pickle', 'rb') as f:\n",
    "    result_eval_machine = pickle.load(f)\n",
    "f.close()"
   ]
  },
  {
   "cell_type": "code",
   "execution_count": 14,
   "metadata": {},
   "outputs": [
    {
     "data": {
      "text/plain": [
       "((16000, 512), (1400, 512), (1800, 512))"
      ]
     },
     "execution_count": 14,
     "metadata": {},
     "output_type": "execute_result"
    }
   ],
   "source": [
    "result_train.shape, result_test.shape, result_eval.shape"
   ]
  },
  {
   "cell_type": "code",
   "execution_count": 15,
   "metadata": {},
   "outputs": [
    {
     "data": {
      "text/plain": [
       "((16000, 512), (16000, 512))"
      ]
     },
     "execution_count": 15,
     "metadata": {},
     "output_type": "execute_result"
    }
   ],
   "source": [
    "result_train.shape, result_train_machine.shape"
   ]
  },
  {
   "cell_type": "code",
   "execution_count": 16,
   "metadata": {},
   "outputs": [],
   "source": [
    "def length_norm(mat):\n",
    "    norm_mat = []\n",
    "    for line in mat:\n",
    "        temp = line / np.sqrt(sum(np.power(line, 2)))\n",
    "        norm_mat.append(temp)\n",
    "    norm_mat = np.array(norm_mat)\n",
    "    return norm_mat"
   ]
  },
  {
   "cell_type": "code",
   "execution_count": 17,
   "metadata": {},
   "outputs": [],
   "source": [
    "result_train_ln = length_norm(result_train)\n",
    "result_test_ln = length_norm(result_test)\n",
    "result_eval_ln = length_norm(result_eval)\n",
    "\n",
    "result_train_ln_machine = length_norm(result_train_machine)\n",
    "result_test_ln_machine = length_norm(result_test_machine)\n",
    "result_eval_ln_machine = length_norm(result_eval_machine)"
   ]
  },
  {
   "cell_type": "code",
   "execution_count": 18,
   "metadata": {},
   "outputs": [],
   "source": [
    "source_train = np.array(eval_train[eval_train['domain']=='source'].index)\n",
    "target_train = np.array(eval_train[eval_train['domain']=='target'].index)"
   ]
  },
  {
   "cell_type": "code",
   "execution_count": 19,
   "metadata": {},
   "outputs": [],
   "source": [
    "kmeans = KMeans(n_clusters=16, random_state=42).fit(result_train_ln[source_train])\n",
    "centers = kmeans.cluster_centers_\n",
    "\n",
    "kmeans_machine = KMeans(n_clusters=16, random_state=42).fit(result_train_ln_machine[source_train])\n",
    "centers_machine = kmeans_machine.cluster_centers_"
   ]
  },
  {
   "cell_type": "code",
   "execution_count": 27,
   "metadata": {},
   "outputs": [],
   "source": [
    "a = np.min(1-np.dot(result_test_ln, centers.transpose()), axis=-1, keepdims=True)\n",
    "b = np.min(1-np.dot(result_test_ln, result_train_ln[target_train].transpose()), axis=-1, keepdims=True)\n",
    "cos = np.minimum(a, b)\n",
    "\n",
    "a = np.min(1-np.dot(result_test_ln_machine, centers.transpose()), axis=-1, keepdims=True)\n",
    "b = np.min(1-np.dot(result_test_ln_machine, result_train_ln_machine[target_train].transpose()), axis=-1, keepdims=True)\n",
    "cos_machine = np.minimum(a, b)\n",
    "\n",
    "final_cos = np.mean([cos, cos_machine], axis=0)\n",
    "eval_test['anomaly_score'] = final_cos"
   ]
  },
  {
   "cell_type": "code",
   "execution_count": 29,
   "metadata": {},
   "outputs": [
    {
     "name": "stdout",
     "output_type": "stream",
     "text": [
      "AUC of gearbox: 66.08000000000001\n",
      "pAUC of gearbox: 51.421052631578945\n",
      "####################################################\n",
      "AUC for source domain of gearbox: 61.8\n",
      "pAUC for source domain of gearbox: 49.05263157894737\n",
      "####################################################\n",
      "AUC for target domain of gearbox: 70.96000000000001\n",
      "pAUC for target domain of gearbox: 55.78947368421052\n",
      "####################################################\n",
      "####################################################\n",
      "####################################################\n",
      "AUC of ToyTrain: 51.51\n",
      "pAUC of ToyTrain: 53.26315789473684\n",
      "####################################################\n",
      "AUC for source domain of ToyTrain: 39.92000000000001\n",
      "pAUC for source domain of ToyTrain: 53.05263157894737\n",
      "####################################################\n",
      "AUC for target domain of ToyTrain: 63.75999999999999\n",
      "pAUC for target domain of ToyTrain: 54.52631578947369\n",
      "####################################################\n",
      "####################################################\n",
      "####################################################\n",
      "AUC of ToyCar: 45.10000000000001\n",
      "pAUC of ToyCar: 48.84210526315789\n",
      "####################################################\n",
      "AUC for source domain of ToyCar: 41.07999999999999\n",
      "pAUC for source domain of ToyCar: 48.0\n",
      "####################################################\n",
      "AUC for target domain of ToyCar: 51.000000000000014\n",
      "pAUC for target domain of ToyCar: 51.1578947368421\n",
      "####################################################\n",
      "####################################################\n",
      "####################################################\n",
      "AUC of valve: 60.45\n",
      "pAUC of valve: 55.368421052631575\n",
      "####################################################\n",
      "AUC for source domain of valve: 69.88\n",
      "pAUC for source domain of valve: 57.263157894736835\n",
      "####################################################\n",
      "AUC for target domain of valve: 49.36000000000001\n",
      "pAUC for target domain of valve: 53.05263157894737\n",
      "####################################################\n",
      "####################################################\n",
      "####################################################\n",
      "AUC of slider: 77.35\n",
      "pAUC of slider: 54.736842105263165\n",
      "####################################################\n",
      "AUC for source domain of slider: 88.52\n",
      "pAUC for source domain of slider: 68.63157894736842\n",
      "####################################################\n",
      "AUC for target domain of slider: 67.6\n",
      "pAUC for target domain of slider: 53.68421052631579\n",
      "####################################################\n",
      "####################################################\n",
      "####################################################\n",
      "AUC of fan: 55.67999999999999\n",
      "pAUC of fan: 57.10526315789474\n",
      "####################################################\n",
      "AUC for source domain of fan: 52.16\n",
      "pAUC for source domain of fan: 52.63157894736842\n",
      "####################################################\n",
      "AUC for target domain of fan: 59.0\n",
      "pAUC for target domain of fan: 61.05263157894737\n",
      "####################################################\n",
      "####################################################\n",
      "####################################################\n",
      "AUC of bearing: 59.629999999999995\n",
      "pAUC of bearing: 53.1578947368421\n",
      "####################################################\n",
      "AUC for source domain of bearing: 53.0\n",
      "pAUC for source domain of bearing: 50.73684210526316\n",
      "####################################################\n",
      "AUC for target domain of bearing: 67.75999999999999\n",
      "pAUC for target domain of bearing: 54.315789473684205\n",
      "####################################################\n",
      "####################################################\n",
      "####################################################\n",
      "mean AUC: 57.88926253789509\n",
      "mean pAUC: 53.29289233156419\n",
      "mean AUC for source domain: 54.17080041067652\n",
      "mean pAUC for source domain: 53.51185426631854\n",
      "mean AUC for target domain: 60.270297943383156\n",
      "mean pAUC for target domain: 54.65400643129317\n",
      "final score : 55.745214574334646\n"
     ]
    }
   ],
   "source": [
    "aucs = []\n",
    "p_aucs = []\n",
    "aucs_source = []\n",
    "p_aucs_source = []\n",
    "aucs_target = []\n",
    "p_aucs_target = []\n",
    "\n",
    "machine_list = eval_test['machine'].unique()\n",
    "for machine in machine_list:\n",
    "    temp = eval_test[eval_test['machine']==machine]\n",
    "    true = temp['label'].values\n",
    "    cos = temp['anomaly_score'].values\n",
    "    auc = roc_auc_score(true, cos)\n",
    "    p_auc = roc_auc_score(true, cos, max_fpr=0.1)\n",
    "    aucs.append(auc)\n",
    "    p_aucs.append(p_auc)\n",
    "    print('AUC of ' + machine + ': ' + str(auc * 100))\n",
    "    print('pAUC of ' + machine + ': ' + str(p_auc * 100))\n",
    "    \n",
    "    print('####################################################')\n",
    "        \n",
    "    temp_source = temp[temp['domain']=='source']\n",
    "    true_source = temp_source['label'].values\n",
    "    cos_source = temp_source['anomaly_score'].values\n",
    "    auc = roc_auc_score(true_source, cos_source)\n",
    "    p_auc = roc_auc_score(true_source, cos_source, max_fpr=0.1)\n",
    "    aucs_source.append(auc)\n",
    "    p_aucs_source.append(p_auc)\n",
    "    print('AUC for source domain of ' + machine + ': ' + str(auc * 100))\n",
    "    print('pAUC for source domain of ' + machine + ': ' + str(p_auc * 100))\n",
    "    \n",
    "    print('####################################################')\n",
    "        \n",
    "    temp_target = temp[temp['domain']=='target']\n",
    "    true_target = temp_target['label'].values\n",
    "    cos_target = temp_target['anomaly_score'].values\n",
    "    auc = roc_auc_score(true_target, cos_target)\n",
    "    p_auc = roc_auc_score(true_target, cos_target, max_fpr=0.1)\n",
    "    aucs_target.append(auc)\n",
    "    p_aucs_target.append(p_auc)\n",
    "    print('AUC for target domain of ' + machine + ': ' + str(auc * 100))\n",
    "    print('pAUC for target domain of ' + machine + ': ' + str(p_auc * 100))\n",
    "    \n",
    "    print('####################################################')\n",
    "    print('####################################################')\n",
    "    print('####################################################')\n",
    "\n",
    "mean_auc = hmean(aucs)\n",
    "print('mean AUC: ' + str(mean_auc * 100))\n",
    "mean_p_auc = hmean(p_aucs)\n",
    "print('mean pAUC: ' + str(mean_p_auc * 100))  \n",
    "mean_auc_source = hmean(aucs_source)\n",
    "print('mean AUC for source domain: ' + str(mean_auc_source * 100))\n",
    "mean_p_auc_source = hmean(p_aucs_source)\n",
    "print('mean pAUC for source domain: ' + str(mean_p_auc_source * 100))\n",
    "mean_auc_target = hmean(aucs_target)\n",
    "print('mean AUC for target domain: ' + str(mean_auc_target * 100))\n",
    "mean_p_auc_target = hmean(p_aucs_target)\n",
    "print('mean pAUC for target domain: ' + str(mean_p_auc_target * 100))\n",
    "\n",
    "score = hmean(aucs_source + aucs_target + p_aucs)\n",
    "print('final score : ' + str(score*100))"
   ]
  },
  {
   "cell_type": "code",
   "execution_count": null,
   "metadata": {},
   "outputs": [],
   "source": []
  }
 ],
 "metadata": {
  "language_info": {
   "name": "python"
  }
 },
 "nbformat": 4,
 "nbformat_minor": 2
}
